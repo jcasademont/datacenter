{
 "metadata": {
  "name": "",
  "signature": "sha256:c0b94f4494997ff93d37199900e4d95e7e5eee89d49644e292648d6d925ac9a9"
 },
 "nbformat": 3,
 "nbformat_minor": 0,
 "worksheets": [
  {
   "cells": [
    {
     "cell_type": "code",
     "collapsed": false,
     "input": [
      "import numpy as np\n",
      "from pandas import Series, DataFrame\n",
      "import pandas as pd\n",
      "from datetime import datetime, timedelta\n",
      "import matplotlib.pyplot as plt\n",
      "from sklearn import linear_model\n",
      "from sklearn.metrics import mean_squared_error\n",
      "\n",
      "%matplotlib inline"
     ],
     "language": "python",
     "metadata": {},
     "outputs": [],
     "prompt_number": 81
    },
    {
     "cell_type": "code",
     "collapsed": false,
     "input": [
      "train = pd.read_pickle('data/rack_temps_train.pickle')\n",
      "test = pd.read_pickle('data/rack_temps_test.pickle')"
     ],
     "language": "python",
     "metadata": {},
     "outputs": [],
     "prompt_number": 82
    },
    {
     "cell_type": "code",
     "collapsed": false,
     "input": [
      "def transform_data(df, name):\n",
      "    l1 = df[name].shift(1)\n",
      "    l2 = df[name].shift(2)\n",
      "    return DataFrame({ 't' : df[name],\n",
      "                       'l1' : l1,\n",
      "                       'l2' : l2,\n",
      "                     }\n",
      "                    ).dropna()"
     ],
     "language": "python",
     "metadata": {},
     "outputs": [],
     "prompt_number": 83
    },
    {
     "cell_type": "code",
     "collapsed": false,
     "input": [
      "train = transform_data(train, 'E12')\n",
      "test = transform_data(test, 'E12')\n",
      "\n",
      "train.head()"
     ],
     "language": "python",
     "metadata": {},
     "outputs": [
      {
       "html": [
        "<div style=\"max-height:1000px;max-width:1500px;overflow:auto;\">\n",
        "<table border=\"1\" class=\"dataframe\">\n",
        "  <thead>\n",
        "    <tr style=\"text-align: right;\">\n",
        "      <th></th>\n",
        "      <th>l1</th>\n",
        "      <th>l2</th>\n",
        "      <th>t</th>\n",
        "    </tr>\n",
        "  </thead>\n",
        "  <tbody>\n",
        "    <tr>\n",
        "      <th>2014-03-01 00:45:00</th>\n",
        "      <td> 22.90</td>\n",
        "      <td> 22.90</td>\n",
        "      <td> 22.80</td>\n",
        "    </tr>\n",
        "    <tr>\n",
        "      <th>2014-03-01 01:00:00</th>\n",
        "      <td> 22.80</td>\n",
        "      <td> 22.90</td>\n",
        "      <td> 22.83</td>\n",
        "    </tr>\n",
        "    <tr>\n",
        "      <th>2014-03-01 01:15:00</th>\n",
        "      <td> 22.83</td>\n",
        "      <td> 22.80</td>\n",
        "      <td> 22.97</td>\n",
        "    </tr>\n",
        "    <tr>\n",
        "      <th>2014-03-01 01:30:00</th>\n",
        "      <td> 22.97</td>\n",
        "      <td> 22.83</td>\n",
        "      <td> 23.05</td>\n",
        "    </tr>\n",
        "    <tr>\n",
        "      <th>2014-03-01 01:45:00</th>\n",
        "      <td> 23.05</td>\n",
        "      <td> 22.97</td>\n",
        "      <td> 23.03</td>\n",
        "    </tr>\n",
        "  </tbody>\n",
        "</table>\n",
        "</div>"
       ],
       "metadata": {},
       "output_type": "pyout",
       "prompt_number": 84,
       "text": [
        "                        l1     l2      t\n",
        "2014-03-01 00:45:00  22.90  22.90  22.80\n",
        "2014-03-01 01:00:00  22.80  22.90  22.83\n",
        "2014-03-01 01:15:00  22.83  22.80  22.97\n",
        "2014-03-01 01:30:00  22.97  22.83  23.05\n",
        "2014-03-01 01:45:00  23.05  22.97  23.03"
       ]
      }
     ],
     "prompt_number": 84
    },
    {
     "cell_type": "code",
     "collapsed": false,
     "input": [
      "regr = linear_model.LinearRegression()\n",
      "regr.fit(train[['l1', 'l2']].values, train['t'].values)\n",
      "\n",
      "predicted = regr.predict(test[['l1', 'l2']].values)\n",
      "predicted[:5]"
     ],
     "language": "python",
     "metadata": {},
     "outputs": [
      {
       "metadata": {},
       "output_type": "pyout",
       "prompt_number": 85,
       "text": [
        "array([ 21.12477847,  21.01008943,  21.13954497,  21.04478318,  21.02012463])"
       ]
      }
     ],
     "prompt_number": 85
    },
    {
     "cell_type": "code",
     "collapsed": false,
     "input": [
      "mean_squared_error(test['t'], predicted)"
     ],
     "language": "python",
     "metadata": {},
     "outputs": [
      {
       "metadata": {},
       "output_type": "pyout",
       "prompt_number": 86,
       "text": [
        "0.028480303579850437"
       ]
      }
     ],
     "prompt_number": 86
    },
    {
     "cell_type": "code",
     "collapsed": false,
     "input": [
      "plt.plot(predicted, 'r')\n",
      "plt.plot(test['t'].values, 'b')"
     ],
     "language": "python",
     "metadata": {},
     "outputs": [
      {
       "metadata": {},
       "output_type": "pyout",
       "prompt_number": 87,
       "text": [
        "[<matplotlib.lines.Line2D at 0x7f7ea86ec6a0>]"
       ]
      },
      {
       "metadata": {},
       "output_type": "display_data",
       "png": "[encoded data removed]",
       "text": [
        "<matplotlib.figure.Figure at 0x7f7ea86ec3c8>"
       ]
      }
     ],
     "prompt_number": 87
    },
    {
     "cell_type": "code",
     "collapsed": false,
     "input": [
      "regr.coef_"
     ],
     "language": "python",
     "metadata": {},
     "outputs": [
      {
       "metadata": {},
       "output_type": "pyout",
       "prompt_number": 88,
       "text": [
        "array([ 1.4909649 , -0.50175993])"
       ]
      }
     ],
     "prompt_number": 88
    }
   ],
   "metadata": {}
  }
 ]
}